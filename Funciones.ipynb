{
  "nbformat": 4,
  "nbformat_minor": 0,
  "metadata": {
    "colab": {
      "name": "Funciones.ipynb",
      "provenance": [],
      "include_colab_link": true
    },
    "kernelspec": {
      "name": "python3",
      "display_name": "Python 3"
    }
  },
  "cells": [
    {
      "cell_type": "markdown",
      "metadata": {
        "id": "view-in-github",
        "colab_type": "text"
      },
      "source": [
        "<a href=\"https://colab.research.google.com/github/marcos345/Hello-Word/blob/master/Funciones.ipynb\" target=\"_parent\"><img src=\"https://colab.research.google.com/assets/colab-badge.svg\" alt=\"Open In Colab\"/></a>"
      ]
    },
    {
      "cell_type": "markdown",
      "metadata": {
        "id": "LHTTx16x1nG6"
      },
      "source": [
        "#__Funciones__ \n",
        "##Una función es una porción o bloque de código reutilizable que se encarga de realizar una determinada tarea.\n",
        "##La sintaxis en python es:\n",
        "```python\n",
        "# Creacion de función\n",
        "def My_fun():\n",
        "    #instrucciones\n",
        "    #instrucciones\n",
        "```\n",
        "```python\n",
        "# Invocación de función\n",
        "My_fun()\n",
        "\n",
        "```"
      ]
    },
    {
      "cell_type": "code",
      "metadata": {
        "id": "_dh_BWqiY0rg"
      },
      "source": [
        "def fun6():\n",
        "    print(\"esto es mi primera funcion de Arnold Cruz\")\n"
      ],
      "execution_count": null,
      "outputs": []
    },
    {
      "cell_type": "markdown",
      "metadata": {
        "id": "UuuLFTuLn9mh"
      },
      "source": [
        "# FUNCIONES CON PARAMETROS\n"
      ]
    },
    {
      "cell_type": "markdown",
      "metadata": {
        "id": "c513P-q0P0By"
      },
      "source": [
        "#Ejemplo 1\n",
        "\n",
        "#Escribir una funcion que reciba un año y devuelva True si el año es bisiesto, y que devuelva False si el año no es bisiesto.\n",
        "#*Nota*: Un año es bisiesto si es divisible entre 4 y (no es divisible entre 100 o es divisible entre 400)"
      ]
    },
    {
      "cell_type": "markdown",
      "metadata": {
        "id": "AUSa70X5l6i0"
      },
      "source": [
        "PRIMERA OPCION"
      ]
    },
    {
      "cell_type": "code",
      "metadata": {
        "id": "7i6MUsRvZDM0",
        "cellView": "code"
      },
      "source": [
        "def isYearLeap(Year):\n",
        "  p=False\n",
        "  if Year % 4 == 0:\n",
        "    if Year % 100 == 0:\n",
        "      if Year % 400 == 0:\n",
        "        p=True\n",
        "      else:\n",
        "        p=False\n",
        "    else:\n",
        "      p=True\n",
        "  else:\n",
        "    p=False\n",
        "  return p "
      ],
      "execution_count": null,
      "outputs": []
    },
    {
      "cell_type": "markdown",
      "metadata": {
        "id": "p1FE3uS5mCrL"
      },
      "source": [
        "SEGUNDA OPCION"
      ]
    },
    {
      "cell_type": "code",
      "metadata": {
        "id": "prUlpb3kh3EU"
      },
      "source": [
        "def isLeap(year):\n",
        "  if (year%4==0) and ((not year%100==0)or (year%400==0)) :\n",
        "    return True\n",
        "  else:\n",
        "    return False    "
      ],
      "execution_count": null,
      "outputs": []
    },
    {
      "cell_type": "markdown",
      "metadata": {
        "id": "YtydRvZdgLIZ"
      },
      "source": [
        "##utilizamos la funcion isYearLeap en el siguiente código:"
      ]
    },
    {
      "cell_type": "code",
      "metadata": {
        "id": "_fOsqUphgmPD",
        "colab": {
          "base_uri": "https://localhost:8080/"
        },
        "outputId": "1aa03a89-a327-4961-eb1c-733a77579b41"
      },
      "source": [
        "year=int(input(\"Ingrese un año : \"))\n",
        "if isLeap(year):\n",
        "  print(\" el año:\",year,\"es bisiesto\")\n",
        "else:\n",
        "  print(\"el año:\",year,\"no es bisiesto\")"
      ],
      "execution_count": null,
      "outputs": [
        {
          "output_type": "stream",
          "text": [
            "Ingrese un año : 2020\n",
            " el año: 2020 es bisiesto\n"
          ],
          "name": "stdout"
        }
      ]
    },
    {
      "cell_type": "markdown",
      "metadata": {
        "id": "8g4LUhSXi2Vr"
      },
      "source": [
        "###Ejercicio 1.-\n",
        "####Escribir una funcion que pida un número y retorne True si el número es par, False en caso contrario."
      ]
    },
    {
      "cell_type": "code",
      "metadata": {
        "colab": {
          "base_uri": "https://localhost:8080/"
        },
        "id": "tJIgoc0Di1mw",
        "outputId": "8985223d-959a-45e6-a5d5-38a61e31e496"
      },
      "source": [
        "def par(num):\n",
        "    if num%2==0:\n",
        "        return True\n",
        "    else:\n",
        "        return False\n",
        "print(par(21))"
      ],
      "execution_count": null,
      "outputs": [
        {
          "output_type": "stream",
          "text": [
            "False\n"
          ],
          "name": "stdout"
        }
      ]
    },
    {
      "cell_type": "markdown",
      "metadata": {
        "id": "TRpLbbwZC9Mj"
      },
      "source": [
        "# Ejemplo 2 (LAB 4.1.3.7)\n",
        "#escribir un programa que pida un año y un mes e imprima el número de días de ese mes corresponirnte al año introducido.\n",
        "vemos las siguiente tabla\n",
        "..\n",
        "\n",
        "\n",
        "\n",
        "![dias_año.jpg](data:image/jpeg;base64,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) "
      ]
    },
    {
      "cell_type": "code",
      "metadata": {
        "id": "518L6p-3EoFy"
      },
      "source": [
        "def daysInMonth(y,m):\n",
        "    days=None\n",
        "    if m==2:\n",
        "        if isLeap(y):\n",
        "            days=29\n",
        "        else:\n",
        "            days=28\n",
        "    else:\n",
        "        if (m==1)or (m==3)or (m==5)or (m==7)or (m==8)or (m==10)or (m==12):\n",
        "            days=31\n",
        "        elif (m==4)or (m==6)or (m==9)or (m==11):\n",
        "            days=30\n",
        "\n",
        "    return days           \n",
        "    \n"
      ],
      "execution_count": null,
      "outputs": []
    },
    {
      "cell_type": "code",
      "metadata": {
        "id": "ZRf-91bxMI22",
        "colab": {
          "base_uri": "https://localhost:8080/"
        },
        "outputId": "ab206578-6714-426b-89ca-2f5f9db8f17e"
      },
      "source": [
        "y=int(input(\"ingrese el años: \"))\n",
        "m=int(input(\"ingrese el mes: \"))\n",
        "days=daysInMonth(y,m)\n",
        "print(days)"
      ],
      "execution_count": null,
      "outputs": [
        {
          "output_type": "stream",
          "text": [
            "ingrese el años: 2020\n",
            "ingrese el mes: 2\n",
            "29\n"
          ],
          "name": "stdout"
        }
      ]
    },
    {
      "cell_type": "markdown",
      "metadata": {
        "id": "LehgYPAuPuEs"
      },
      "source": [
        "# Ejemplo 3 (LAB 4.1.3.8)\n",
        "## Escribir una función que tome tres argumentos, año, mes y día. Y devuelva el numero de día del año(de 1 a 366)"
      ]
    },
    {
      "cell_type": "code",
      "metadata": {
        "id": "uffimUFwUYpD"
      },
      "source": [
        "def DayOfYear(year,month,day):\n",
        "    day_Year=0\n",
        "    \n",
        "    for i in range(1,month):\n",
        "        day_Year+=daysInMonth(year,i)\n",
        "\n",
        "    day_Year+=day\n",
        "    return day_Year\n",
        "      \n"
      ],
      "execution_count": null,
      "outputs": []
    },
    {
      "cell_type": "code",
      "metadata": {
        "id": "2r7Usw4XSqFK",
        "colab": {
          "base_uri": "https://localhost:8080/"
        },
        "outputId": "1ab82153-4544-4252-b8c3-181c9890770d"
      },
      "source": [
        "y=int(input(\"ingrese año\\n\"))\n",
        "m=int(input(\"ingrese mes\\n\"))\n",
        "d=int(input(\"ingrese dia\"))\n",
        "print(DayOfYear(y,m,d))"
      ],
      "execution_count": null,
      "outputs": [
        {
          "output_type": "stream",
          "text": [
            "ingrese año\n",
            "678\n",
            "ingrese mes\n",
            "4\n",
            "ingrese dia3\n",
            "93\n"
          ],
          "name": "stdout"
        }
      ]
    },
    {
      "cell_type": "markdown",
      "metadata": {
        "id": "uhF6OitJoLJ6"
      },
      "source": [
        "###Ejercicio 2\n",
        "####Escriba una funcion que reciba un número, y devuelva True si el número es primo, False en caso contrario"
      ]
    },
    {
      "cell_type": "code",
      "metadata": {
        "id": "aFMmuyJ7ogyh"
      },
      "source": [
        "def primo(num):\n",
        "    pass\n",
        "print(primo(23))"
      ],
      "execution_count": null,
      "outputs": []
    },
    {
      "cell_type": "markdown",
      "metadata": {
        "id": "Rfo2A2vIreKh"
      },
      "source": [
        "###Ejercicio 3\n",
        "####Escriba un funcion que reciba un número n, y devuelva la suma desde 1 hasta n"
      ]
    },
    {
      "cell_type": "code",
      "metadata": {
        "colab": {
          "base_uri": "https://localhost:8080/"
        },
        "id": "J8ZRkKR8rdE6",
        "outputId": "a1d58cd3-21e0-4cd4-b304-a395f963daa1"
      },
      "source": [
        "def sum(num):\n",
        "    s=0\n",
        "    for i in range(1,num+1):\n",
        "        s+=i\n",
        "    return s\n",
        "print(sum(5))"
      ],
      "execution_count": null,
      "outputs": [
        {
          "output_type": "stream",
          "text": [
            "15\n"
          ],
          "name": "stdout"
        }
      ]
    },
    {
      "cell_type": "markdown",
      "metadata": {
        "id": "HJYhn4Nxr8gW"
      },
      "source": [
        "###Ejercicio 4 \n",
        "####Escriba una función que reciba los catetos de un triangulo rectangulo, y devuelva la hipotenusa del triangulo.\n",
        "$c^2=a^2+b^2$\n",
        "$\\implies$ $c=(a^2+b^2)^{0.5}$"
      ]
    },
    {
      "cell_type": "code",
      "metadata": {
        "colab": {
          "base_uri": "https://localhost:8080/"
        },
        "id": "7fgcaWm9sQIJ",
        "outputId": "4206f658-6ae7-4ced-d442-65160ba51e32"
      },
      "source": [
        "def pitagoras(a,b):\n",
        "    return (a**2+b**2)**0.5\n",
        "print(pitagoras(3,4))"
      ],
      "execution_count": null,
      "outputs": [
        {
          "output_type": "stream",
          "text": [
            "5.0\n"
          ],
          "name": "stdout"
        }
      ]
    },
    {
      "cell_type": "markdown",
      "metadata": {
        "id": "JXrgvV1PWEwy"
      },
      "source": [
        "# VARIABLE GLOBALES Y VARIABLES LOCALES\n"
      ]
    },
    {
      "cell_type": "code",
      "metadata": {
        "id": "_6ZxPYtaZ_58",
        "colab": {
          "base_uri": "https://localhost:8080/"
        },
        "outputId": "76e18f4d-1c35-4f8d-81e6-b835efbbdfe5"
      },
      "source": [
        "a=10\n",
        "def fun3():\n",
        "    \n",
        "    a=20\n",
        "fun3()\n",
        "print(a)"
      ],
      "execution_count": null,
      "outputs": [
        {
          "output_type": "stream",
          "text": [
            "10\n"
          ],
          "name": "stdout"
        }
      ]
    },
    {
      "cell_type": "code",
      "metadata": {
        "id": "NfftGueLabVx",
        "colab": {
          "base_uri": "https://localhost:8080/"
        },
        "outputId": "557b1e93-a881-49d2-d99f-48f376c5b3f8"
      },
      "source": [
        "b=20\n",
        "def fun4():\n",
        "    global b\n",
        "    b=200\n",
        "fun4()\n",
        "print(b)"
      ],
      "execution_count": null,
      "outputs": [
        {
          "output_type": "stream",
          "text": [
            "200\n"
          ],
          "name": "stdout"
        }
      ]
    },
    {
      "cell_type": "code",
      "metadata": {
        "id": "_XwmCWKdbdXh",
        "colab": {
          "base_uri": "https://localhost:8080/"
        },
        "outputId": "8c829cb2-60ce-4279-f029-ce3be5f357e7"
      },
      "source": [
        "b=20\n",
        "def fun5():\n",
        "    global b\n",
        "    b=200\n",
        "fun5()\n",
        "print(b)"
      ],
      "execution_count": null,
      "outputs": [
        {
          "output_type": "stream",
          "text": [
            "200\n"
          ],
          "name": "stdout"
        }
      ]
    },
    {
      "cell_type": "code",
      "metadata": {
        "id": "7JmPg9R7b9tv",
        "colab": {
          "base_uri": "https://localhost:8080/"
        },
        "outputId": "0d6b5342-a5b7-45e5-df04-0b4a6b8acee0"
      },
      "source": [
        "def fun6():\n",
        "    global b\n",
        "    b=400\n",
        "fun6()\n",
        "print(b)"
      ],
      "execution_count": null,
      "outputs": [
        {
          "output_type": "stream",
          "text": [
            "400\n"
          ],
          "name": "stdout"
        }
      ]
    },
    {
      "cell_type": "markdown",
      "metadata": {
        "id": "UsS-OQOzcaGX"
      },
      "source": [
        "# INICIALIZANDO PARAMETROS\n"
      ]
    },
    {
      "cell_type": "code",
      "metadata": {
        "id": "WYQSkA93ddrt",
        "colab": {
          "base_uri": "https://localhost:8080/"
        },
        "outputId": "ad736cb0-15de-4633-f0d0-b1cd341683d3"
      },
      "source": [
        "def fun7(p1,p2,p3=\"c\"):\n",
        "    print(p1,p2,p3)\n",
        "fun7(\"x\",\"y\")\n",
        "\n"
      ],
      "execution_count": null,
      "outputs": [
        {
          "output_type": "stream",
          "text": [
            "x y c\n"
          ],
          "name": "stdout"
        }
      ]
    },
    {
      "cell_type": "markdown",
      "metadata": {
        "id": "__rA6x9vfF6e"
      },
      "source": [
        "# LLAMANDO A FUNCION CON CLAVE DE ARGUMENTO"
      ]
    },
    {
      "cell_type": "code",
      "metadata": {
        "id": "XpVEcYcTfXNC",
        "colab": {
          "base_uri": "https://localhost:8080/"
        },
        "outputId": "23f5ad84-55d0-4501-f2b9-05ba8a5ebf3d"
      },
      "source": [
        "def fun8(p1,p2,p3):\n",
        "    print(p1,p2,p3)\n",
        "\n",
        "fun8(p3=\"c\",p1=\"a\",p2=\"b\")\n"
      ],
      "execution_count": null,
      "outputs": [
        {
          "output_type": "stream",
          "text": [
            "a b c\n"
          ],
          "name": "stdout"
        }
      ]
    },
    {
      "cell_type": "code",
      "metadata": {
        "id": "SwWwAn6ljGHI",
        "colab": {
          "base_uri": "https://localhost:8080/"
        },
        "outputId": "2f2b05d9-a032-4a29-e63a-267f800656c9"
      },
      "source": [
        "def fun9(p1,p2,p3=\"c\"):\n",
        "    print(p1,p2,p3)\n",
        "fun9(p2=\"b\",p1=\"a\")\n"
      ],
      "execution_count": null,
      "outputs": [
        {
          "output_type": "stream",
          "text": [
            "a b c\n"
          ],
          "name": "stdout"
        }
      ]
    },
    {
      "cell_type": "markdown",
      "metadata": {
        "id": "RcuFjG00qXF9"
      },
      "source": [
        "# RECURSIVIDAD DE FUNCIONES\n",
        "## Recursividad se refiere al hecho de que una función se llame a si misma"
      ]
    },
    {
      "cell_type": "markdown",
      "metadata": {
        "id": "8fcccvN5uJmB"
      },
      "source": [
        "FUNCIÓN QUE DEVUELVE LA SUMA DE LOS N PRIMEROS NÚMEROS\n",
        ".\n",
        "CON RECURSIVIDAD"
      ]
    },
    {
      "cell_type": "code",
      "metadata": {
        "id": "TretUXu5q16C"
      },
      "source": [
        "def sumR(n):\n",
        "    if n == 1:\n",
        "        return n\n",
        "    else:\n",
        "        return sumR(n-1)+n\n"
      ],
      "execution_count": null,
      "outputs": []
    },
    {
      "cell_type": "markdown",
      "metadata": {
        "id": "dllPnWvrulbe"
      },
      "source": [
        "FUNCIÓN QUE DEVUELVE LA SUMA DE LOS N PRIMEROS NÚMEROS. SIN RECURSIVIDAD"
      ]
    },
    {
      "cell_type": "code",
      "metadata": {
        "id": "-NKujbUCtO3C"
      },
      "source": [
        "def sum(n):\n",
        "    s=0\n",
        "    for i in range(1,n+1):\n",
        "        s=s+i\n",
        "    return s"
      ],
      "execution_count": null,
      "outputs": []
    },
    {
      "cell_type": "code",
      "metadata": {
        "id": "WVlmR42stzOJ",
        "colab": {
          "base_uri": "https://localhost:8080/"
        },
        "outputId": "a3974a59-4b25-4bd3-f77a-7a5100f460fb"
      },
      "source": [
        "print(sumR(10))"
      ],
      "execution_count": null,
      "outputs": [
        {
          "output_type": "stream",
          "text": [
            "55\n"
          ],
          "name": "stdout"
        }
      ]
    },
    {
      "cell_type": "markdown",
      "metadata": {
        "id": "I2fYzsBOBqSg"
      },
      "source": [
        "# TUPLAS Y DICCIONARIOS\n"
      ]
    },
    {
      "cell_type": "markdown",
      "metadata": {
        "id": "YynzSlbVJgOb"
      },
      "source": [
        "## TUPLAS"
      ]
    },
    {
      "cell_type": "code",
      "metadata": {
        "id": "pa_iyBinJl35",
        "colab": {
          "base_uri": "https://localhost:8080/"
        },
        "outputId": "d1fd16df-8f51-4778-b4dd-4df321ce6cae"
      },
      "source": [
        "tup1=(\"a\",\"b\",\"c\")\n",
        "tup2=\"a\",\"b\",\"c\"\n",
        "print(tup1,tup2)"
      ],
      "execution_count": null,
      "outputs": [
        {
          "output_type": "stream",
          "text": [
            "('a', 'b', 'c') ('a', 'b', 'c')\n"
          ],
          "name": "stdout"
        }
      ]
    },
    {
      "cell_type": "markdown",
      "metadata": {
        "id": "mNbYN_fAMIw2"
      },
      "source": [
        "tupla con un solo elemento"
      ]
    },
    {
      "cell_type": "code",
      "metadata": {
        "id": "pUS5piPVL44V",
        "colab": {
          "base_uri": "https://localhost:8080/"
        },
        "outputId": "690223af-c123-4fa3-c323-8b3096a28a33"
      },
      "source": [
        "tup3=(\"u\",)\n",
        "print(tup3)"
      ],
      "execution_count": null,
      "outputs": [
        {
          "output_type": "stream",
          "text": [
            "('u',)\n"
          ],
          "name": "stdout"
        }
      ]
    },
    {
      "cell_type": "markdown",
      "metadata": {
        "id": "5xlD-CnoKzXX"
      },
      "source": [
        "### Accediendoa los elementos de una tupla:"
      ]
    },
    {
      "cell_type": "code",
      "metadata": {
        "id": "FjgrT1TxKCQ_",
        "colab": {
          "base_uri": "https://localhost:8080/"
        },
        "outputId": "c0c63cf0-8821-42f4-b2b8-680c4de430c3"
      },
      "source": [
        "print(tup1[1])"
      ],
      "execution_count": null,
      "outputs": [
        {
          "output_type": "stream",
          "text": [
            "b\n"
          ],
          "name": "stdout"
        }
      ]
    },
    {
      "cell_type": "code",
      "metadata": {
        "id": "nvVk_Ki-Mgi-",
        "colab": {
          "base_uri": "https://localhost:8080/"
        },
        "outputId": "e985e410-4ba8-4705-9f61-3eb151603737"
      },
      "source": [
        "print(tup1[1:])"
      ],
      "execution_count": null,
      "outputs": [
        {
          "output_type": "stream",
          "text": [
            "('b', 'c')\n"
          ],
          "name": "stdout"
        }
      ]
    },
    {
      "cell_type": "markdown",
      "metadata": {
        "id": "h4-kL2XCK-Q_"
      },
      "source": [
        "### ."
      ]
    },
    {
      "cell_type": "markdown",
      "metadata": {
        "id": "CUGB_wytLDI_"
      },
      "source": [
        "### Las tuplas son inmutables"
      ]
    },
    {
      "cell_type": "code",
      "metadata": {
        "id": "MEw3YWn7KQEb"
      },
      "source": [
        "tup1[1]=\"y\""
      ],
      "execution_count": null,
      "outputs": []
    },
    {
      "cell_type": "code",
      "metadata": {
        "id": "Jps69wxfKp1V"
      },
      "source": [
        "del tup1[1]"
      ],
      "execution_count": null,
      "outputs": []
    },
    {
      "cell_type": "code",
      "metadata": {
        "id": "wlCqkQu7On9V"
      },
      "source": [
        "t=(i for i in range(5))"
      ],
      "execution_count": null,
      "outputs": []
    },
    {
      "cell_type": "markdown",
      "metadata": {
        "id": "4P4-gyr-PgKe"
      },
      "source": [
        "."
      ]
    },
    {
      "cell_type": "markdown",
      "metadata": {
        "id": "NaQ_-P6DPikb"
      },
      "source": [
        "### Manejando tuplas"
      ]
    },
    {
      "cell_type": "code",
      "metadata": {
        "id": "xWVK49GWPml_"
      },
      "source": [
        "var=\"x\"\n",
        "t1=(\"a\",)\n",
        "t2=(\"b\",)\n",
        "t3=(\"c\",var)\n",
        "t1,t2,t3=t2,t3,t1 \n",
        "print(t1,t2,t3)"
      ],
      "execution_count": null,
      "outputs": []
    },
    {
      "cell_type": "code",
      "metadata": {
        "id": "8T-tFOTBQZcM"
      },
      "source": [
        "t1=(\"x\",\"y\",\"z\")\n",
        "print(\"y\" in t1 )\n",
        "print(\"u\" not in t1)"
      ],
      "execution_count": null,
      "outputs": []
    },
    {
      "cell_type": "code",
      "metadata": {
        "id": "yBvzj0vLRUky"
      },
      "source": [
        "t1=[1,2,3]\n",
        "print(t1)"
      ],
      "execution_count": null,
      "outputs": []
    },
    {
      "cell_type": "markdown",
      "metadata": {
        "id": "LtIiNyq0URlF"
      },
      "source": [
        "## DICCIONARIOS"
      ]
    },
    {
      "cell_type": "markdown",
      "metadata": {
        "id": "96zAcWTtUWe4"
      },
      "source": [
        "### Definiendo un diccionario"
      ]
    },
    {
      "cell_type": "code",
      "metadata": {
        "id": "RCfk4diXU2gd"
      },
      "source": [
        "dic1={\"nombre\":\"Cralos\",\"edad\":32,\"peso\":60,\"soltero\":True}\n",
        "print(dic1)"
      ],
      "execution_count": null,
      "outputs": []
    },
    {
      "cell_type": "code",
      "metadata": {
        "id": "msGIvjlqVks_"
      },
      "source": [
        "dic2={}\n",
        "print(dic2)"
      ],
      "execution_count": null,
      "outputs": []
    },
    {
      "cell_type": "markdown",
      "metadata": {
        "id": "34Q4OJ4jWQNr"
      },
      "source": [
        "."
      ]
    },
    {
      "cell_type": "markdown",
      "metadata": {
        "id": "Ha9whLS4WSct"
      },
      "source": [
        "### Accediando a los valores de un diccionario"
      ]
    },
    {
      "cell_type": "code",
      "metadata": {
        "id": "TCIyw4-yWYWD"
      },
      "source": [
        "print(dic1[\"edad\"])"
      ],
      "execution_count": null,
      "outputs": []
    },
    {
      "cell_type": "code",
      "metadata": {
        "id": "A9QfUP9pWx0N"
      },
      "source": [
        "print(\"nombre\"in dic1)\n",
        "print(\"apelldo\" in dic1)"
      ],
      "execution_count": null,
      "outputs": []
    },
    {
      "cell_type": "code",
      "metadata": {
        "id": "oG7nbgiGXPON"
      },
      "source": [
        "keys=[\"nombre\",\"apellido\",\"edad\",\"peso\",\"soltero\"]\n",
        "for k in keys:\n",
        "    if k in dic1:\n",
        "        print(k,\"->\",dic1[k])\n",
        "    else:\n",
        "        print(k,\"no está en el diccionario\")\n",
        "        "
      ],
      "execution_count": null,
      "outputs": []
    },
    {
      "cell_type": "markdown",
      "metadata": {
        "id": "VSFH3VLnZThb"
      },
      "source": [
        "."
      ]
    },
    {
      "cell_type": "markdown",
      "metadata": {
        "id": "bvztB3SwZW96"
      },
      "source": [
        "### Método keys()"
      ]
    },
    {
      "cell_type": "code",
      "metadata": {
        "id": "vW83snYyZjS3"
      },
      "source": [
        "print(dic1.keys())"
      ],
      "execution_count": null,
      "outputs": []
    },
    {
      "cell_type": "code",
      "metadata": {
        "id": "DHUgWTSWaGp2"
      },
      "source": [
        "for key in dic1.keys():\n",
        "    print(key,\"->\",dic1[key])"
      ],
      "execution_count": null,
      "outputs": []
    },
    {
      "cell_type": "markdown",
      "metadata": {
        "id": "UPAuGYCFafGL"
      },
      "source": [
        "."
      ]
    },
    {
      "cell_type": "markdown",
      "metadata": {
        "id": "dXiJqYNbagyD"
      },
      "source": [
        "### Función sorted()"
      ]
    },
    {
      "cell_type": "code",
      "metadata": {
        "id": "TfDOIhB6ap6V"
      },
      "source": [
        "for key in sorted(dic1):\n",
        "    print(\"key\",\"->\",dic1[key])"
      ],
      "execution_count": null,
      "outputs": []
    },
    {
      "cell_type": "markdown",
      "metadata": {
        "id": "sj3NYErubcmb"
      },
      "source": [
        "."
      ]
    },
    {
      "cell_type": "markdown",
      "metadata": {
        "id": "RoHnRdSCbeXB"
      },
      "source": [
        "### Métodos items() y values()"
      ]
    },
    {
      "cell_type": "code",
      "metadata": {
        "id": "Pxukv5GOcFLT"
      },
      "source": [
        "print(dic1.items())"
      ],
      "execution_count": null,
      "outputs": []
    },
    {
      "cell_type": "code",
      "metadata": {
        "id": "shnH0SrMcWRn"
      },
      "source": [
        "for x,y in dic1.items():\n",
        "    print(x,\"->\",y)"
      ],
      "execution_count": null,
      "outputs": []
    },
    {
      "cell_type": "code",
      "metadata": {
        "id": "IyZ18XLscwoC"
      },
      "source": [
        "for n in dic1.values():\n",
        "    print(n)"
      ],
      "execution_count": null,
      "outputs": []
    },
    {
      "cell_type": "markdown",
      "metadata": {
        "id": "iYDr4YdSd8RI"
      },
      "source": [
        "."
      ]
    },
    {
      "cell_type": "markdown",
      "metadata": {
        "id": "vpzKXJDEd9t3"
      },
      "source": [
        "### Modificar, agregar y eliminar valores de un diccionario"
      ]
    },
    {
      "cell_type": "code",
      "metadata": {
        "id": "FE0SQDs2eHyh"
      },
      "source": [
        "dic1[\"edad\"]=33\n",
        "print(dic1)"
      ],
      "execution_count": null,
      "outputs": []
    },
    {
      "cell_type": "code",
      "metadata": {
        "id": "KSZpTxOoeXa2"
      },
      "source": [
        "dic1[\"oficio\"]=\"informatico\"\n",
        "print(dic1)"
      ],
      "execution_count": null,
      "outputs": []
    },
    {
      "cell_type": "code",
      "metadata": {
        "id": "i4z3xZSge1gT"
      },
      "source": [
        "del dic1[\"soltero\"]\n",
        "print(dic1)\n",
        "print(\" fin de clase\")"
      ],
      "execution_count": null,
      "outputs": []
    }
  ]
}